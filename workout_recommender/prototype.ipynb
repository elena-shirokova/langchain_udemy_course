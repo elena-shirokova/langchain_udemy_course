{
 "cells": [
  {
   "cell_type": "code",
   "execution_count": null,
   "metadata": {},
   "outputs": [],
   "source": [
    "import requests\n",
    "from pathlib import Path\n",
    "import json\n",
    "import os\n",
    "\n",
    "from langchain.document_loaders import JSONLoader\n",
    "from langchain.embeddings.openai import OpenAIEmbeddings\n",
    "from langchain.text_splitter import CharacterTextSplitter\n",
    "from langchain.vectorstores import FAISS\n",
    "from langchain.chains import ConversationalRetrievalChain, RetrievalQA\n",
    "from langchain.chat_models import ChatOpenAI\n",
    "from langchain import OpenAI, PromptTemplate\n",
    "\n",
    "from urllib.parse import urlencode\n"
   ]
  },
  {
   "cell_type": "code",
   "execution_count": null,
   "metadata": {},
   "outputs": [],
   "source": [
    "channel = \"flow+with+mira\""
   ]
  },
  {
   "cell_type": "code",
   "execution_count": null,
   "metadata": {},
   "outputs": [],
   "source": [
    "channel_list = [\"flow with mira\", \"dansique fitness\", \"charlie follows\"]"
   ]
  },
  {
   "cell_type": "code",
   "execution_count": null,
   "metadata": {},
   "outputs": [],
   "source": [
    "def get_youtube_videos(channel: str):\n",
    "    youtube_url = \"https://serpapi.com/search.json?engine=youtube&search_query={channel}&api_key={api_key}\".format(\n",
    "        channel=channel, api_key=os.environ[\"SERPAPI_API_KEY\"]\n",
    "    )\n",
    "    headers = {\n",
    "        \"Content-type\": \"application/json\"\n",
    "    }\n",
    "    response = requests.get((youtube_url), headers=headers).json()\n",
    "\n",
    "    return response"
   ]
  },
  {
   "cell_type": "code",
   "execution_count": null,
   "metadata": {},
   "outputs": [],
   "source": [
    "for channel in channel_list:\n",
    "    channel_videos = get_youtube_videos(channel)\n",
    "    Path(\"{channel}_youtube_results.json\".format(channel=channel)).write_text(json.dumps(channel_videos))"
   ]
  },
  {
   "cell_type": "code",
   "execution_count": null,
   "metadata": {},
   "outputs": [],
   "source": [
    "channel_videos['video_results'][0]['title'].replace(\"\\'\", \"\\\"\")"
   ]
  },
  {
   "cell_type": "code",
   "execution_count": null,
   "metadata": {},
   "outputs": [],
   "source": [
    "channel = \"flow with mira\""
   ]
  },
  {
   "cell_type": "code",
   "execution_count": null,
   "metadata": {},
   "outputs": [],
   "source": [
    "def metadata_func(record: dict, metadata: dict) -> dict:\n",
    "\n",
    "    # metadata[\"description\"] = record.get(\"description\")\n",
    "    metadata[\"link\"] = record.get(\"link\")\n",
    "\n",
    "    return metadata"
   ]
  },
  {
   "cell_type": "code",
   "execution_count": null,
   "metadata": {},
   "outputs": [],
   "source": [
    "for channel in channel_list:\n",
    "    print(channel)\n",
    "    loader = JSONLoader(file_path=\"{channel}_youtube_results.json\".format(channel=channel),\n",
    "                jq_schema=\".video_results[]\",content_key=\"description\", metadata_func=metadata_func\n",
    "            )\n",
    "    raw_documents = loader.load()\n",
    "    text_splitter = CharacterTextSplitter(chunk_size=100, chunk_overlap=10)\n",
    "    documents = text_splitter.split_documents(raw_documents)\n",
    "    for doc in documents:\n",
    "        new_url = doc.metadata[\"link\"]\n",
    "        doc.metadata.update({\"source\": new_url})\n",
    "    embeddings = OpenAIEmbeddings()\n",
    "    vectorstore = FAISS.from_documents(documents, embeddings)\n",
    "    vectorstore.save_local(\"workout_index\")\n",
    "\n",
    "    new_vectorstore = FAISS.load_local(\"workout_index\", embeddings)\n"
   ]
  },
  {
   "cell_type": "code",
   "execution_count": null,
   "metadata": {},
   "outputs": [],
   "source": [
    "from langchain.chains import LLMChain\n",
    "\n",
    "prompt_template = \"\"\"Use the context below to find a workout that matches the topic:\n",
    "    Context: {context}\n",
    "    Topic: {topic}\n",
    "    Workout:\"\"\"\n",
    "\n",
    "PROMPT = PromptTemplate(template=prompt_template, input_variables=[\"context\", \"topic\"])\n",
    "\n",
    "llm = OpenAI(temperature=0)\n",
    "\n",
    "chain = LLMChain(llm=llm, prompt=PROMPT)"
   ]
  },
  {
   "cell_type": "code",
   "execution_count": null,
   "metadata": {},
   "outputs": [],
   "source": [
    "topic = \"Dansique workout for the whole body up to 60 minutes\""
   ]
  },
  {
   "cell_type": "code",
   "execution_count": null,
   "metadata": {},
   "outputs": [],
   "source": [
    "docs = new_vectorstore.similarity_search(topic, k=20)\n",
    "# inputs = [{\"context\": doc.page_content, \"topic\": topic} for doc in docs]\n",
    "# print(chain.apply(inputs))"
   ]
  },
  {
   "cell_type": "code",
   "execution_count": null,
   "metadata": {},
   "outputs": [],
   "source": []
  }
 ],
 "metadata": {
  "kernelspec": {
   "display_name": "langchain_udemy_course-x9N7zBbo",
   "language": "python",
   "name": "python3"
  },
  "language_info": {
   "codemirror_mode": {
    "name": "ipython",
    "version": 3
   },
   "file_extension": ".py",
   "mimetype": "text/x-python",
   "name": "python",
   "nbconvert_exporter": "python",
   "pygments_lexer": "ipython3",
   "version": "3.11.5"
  },
  "orig_nbformat": 4
 },
 "nbformat": 4,
 "nbformat_minor": 2
}
